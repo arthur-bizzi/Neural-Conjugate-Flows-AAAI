{
 "cells": [
  {
   "cell_type": "markdown",
   "id": "6530e77f",
   "metadata": {
    "papermill": {
     "duration": 0.024543,
     "end_time": "2021-06-17T12:39:24.039027",
     "exception": false,
     "start_time": "2021-06-17T12:39:24.014484",
     "status": "completed"
    },
    "tags": []
   },
   "source": [
    "# Comparing Neural ODEs and Neural Conjugate Flows\n",
    "\n",
    "Neural Conjugate Flows...\n",
    "\n",
    "`torchdyn` implements out-of-the-box a variety of continuous-depth models. We will touch upon the following Neural ODE variants:\n",
    "\n",
    "* **Vanilla** (depth-invariant)\n",
    "* **Vanilla** (depth-variant)\n",
    "* **Galerkin**\n",
    "* **Data-controlled**\n"
   ]
  },
  {
   "cell_type": "code",
   "execution_count": null,
   "id": "49b482b1",
   "metadata": {},
   "outputs": [],
   "source": [
    "%load_ext autoreload\n",
    "%autoreload 2"
   ]
  },
  {
   "cell_type": "code",
   "execution_count": null,
   "id": "69086206",
   "metadata": {},
   "outputs": [],
   "source": [
    "# Import the necessary libraries\n",
    "import time \n",
    "\n",
    "import torch\n",
    "import torch.nn as nn\n",
    "import torch.utils.data as data\n",
    "import torch.utils.benchmark as benchmark\n",
    "\n",
    "import torchdyn\n",
    "import numpy as np\n",
    "import matplotlib.pyplot as plt\n",
    "\n",
    "# from scipy.integrate import solve_ivp\n",
    "from torchdyn.numerics import odeint"
   ]
  },
  {
   "cell_type": "code",
   "execution_count": null,
   "id": "599a9175",
   "metadata": {
    "papermill": {
     "duration": 1.118505,
     "end_time": "2021-06-17T12:39:25.175944",
     "exception": false,
     "start_time": "2021-06-17T12:39:24.057439",
     "status": "completed"
    },
    "tags": []
   },
   "outputs": [],
   "source": [
    "from torchdyn.core import NeuralODE\n",
    "from torchdyn.nn import DataControl, DepthCat, Augmenter, GalLinear, Fourier\n",
    "from torchdyn.datasets import *\n",
    "from torchdyn.utils import *"
   ]
  },
  {
   "cell_type": "code",
   "execution_count": null,
   "id": "1190e455",
   "metadata": {},
   "outputs": [],
   "source": [
    "from models import *\n",
    "import utils.ode as ode"
   ]
  },
  {
   "cell_type": "code",
   "execution_count": null,
   "id": "58637adc",
   "metadata": {},
   "outputs": [],
   "source": [
    "# Set up device\n",
    "device = torch.device(\"cuda\" if torch.cuda.is_available() else \"cpu\")\n",
    "\n",
    "# Change to 64-bit\n",
    "# torch.set_default_tensor_type(torch.DoubleTensor)\n",
    "# torch.set_default_dtype(torch.float64)\n",
    "\n",
    "# Clear GPU Memory\n",
    "# torch.cuda.empty_cache()\n",
    "torch.manual_seed(0)"
   ]
  },
  {
   "cell_type": "code",
   "execution_count": null,
   "metadata": {},
   "outputs": [],
   "source": [
    "# Define the Residue for the ODE\n",
    "speed = 32.0\n",
    "eq = ode.RescaledHodgkinHuxley(speed = speed)\n",
    "# eq = ode.FitzHughNagumo(speed = speed)\n",
    "eq_name = 'Hodgkin-Huxley'\n",
    "order = eq.order\n",
    "nt = 200\n",
    "t = torch.linspace(0, 1, nt+1, requires_grad=False)\n",
    "zero = torch.zeros(1, requires_grad=False)\n",
    "x0 = [zero,eq.n_inf(zero),eq.m_inf(zero),eq.h_inf(zero)]\n",
    "x0 = 10*torch.tensor(x0, requires_grad = False)"
   ]
  },
  {
   "cell_type": "code",
   "execution_count": null,
   "metadata": {},
   "outputs": [],
   "source": [
    "# Baseline Simulation with SciPy\n",
    "sol = odeint(eq.f_solver, x0, t,solver = 'dopri5')[1]\n",
    "\n",
    "plt.plot(speed*t,sol[:,0], label = 'X')\n",
    "plt.plot(speed*t,sol[:,1], label = 'Y')\n",
    "plt.plot(speed*t,sol[:,2], label = 'Z')\n",
    "plt.plot(speed*t,sol[:,3], label = 'ZZ')\n",
    "plt.title(eq_name)"
   ]
  },
  {
   "cell_type": "code",
   "execution_count": null,
   "metadata": {},
   "outputs": [],
   "source": [
    "# Baseline Simulation with SciPy\n",
    "speed = 14.0\n",
    "nt = 100\n",
    "eq = ode.RescaledHodgkinHuxley(speed = speed)\n",
    "x0 = torch.tensor(sol[-1],dtype=torch.float)\n",
    "t = torch.linspace(0, 1, nt+1, requires_grad=False)"
   ]
  },
  {
   "cell_type": "code",
   "execution_count": null,
   "id": "ca413ac0",
   "metadata": {},
   "outputs": [],
   "source": [
    "\n",
    "# sol = solve_ivp(eq.f_solver, [0.,1.], x0_np, t_eval=t)\n",
    "# sol = solve_ivp(eq.f_solver, [0.,1.], x0_np, t_eval=t)\n",
    "sol = odeint(eq.f_solver, x0, t,solver = 'dopri5')[1]\n",
    "# sol_extrapolated = solve_ivp(eq.f_solver, [0.,2.], x0_np, t_eval=2*t)\n",
    "sol_extrapolated = odeint(eq.f_solver, x0, 2*t,solver = 'dopri5')[1]\n",
    "\n",
    "plt.plot(speed*t,sol[:,0], label = 'X')\n",
    "plt.plot(speed*t,sol[:,1], label = 'Y')\n",
    "plt.plot(speed*t,sol[:,2], label = 'Z')\n",
    "plt.plot(speed*t,sol[:,3], label = 'ZZ')\n",
    "plt.title(eq_name)"
   ]
  },
  {
   "cell_type": "code",
   "execution_count": null,
   "id": "5b58d652",
   "metadata": {},
   "outputs": [],
   "source": [
    "plt.plot(2*speed*t,sol_extrapolated[:,0], label = 'X')\n",
    "plt.plot(2*speed*t,sol_extrapolated[:,1], label = 'Y')\n",
    "plt.plot(2*speed*t,sol_extrapolated[:,2], label = 'Z')\n",
    "plt.plot(2*speed*t,sol_extrapolated[:,3], label = 'ZZ')\n",
    "plt.title(eq_name)"
   ]
  },
  {
   "cell_type": "code",
   "execution_count": null,
   "id": "242072f3",
   "metadata": {},
   "outputs": [],
   "source": [
    "# Train datasets are a subset of the original solution\n",
    "undersampling = 2\n",
    "t_train = t[::undersampling]\n",
    "y_train = sol[::undersampling].to(t).unsqueeze(1)\n",
    "\n",
    "x_train = y_train[0]\n",
    "train = data.TensorDataset(y_train)\n",
    "trainloader = data.DataLoader(train, batch_size=len(t_train), shuffle=False)"
   ]
  },
  {
   "cell_type": "code",
   "execution_count": null,
   "id": "fe7bcfb1",
   "metadata": {},
   "outputs": [],
   "source": [
    "experiments = 5\n",
    "epochs = 2000"
   ]
  },
  {
   "cell_type": "markdown",
   "id": "98f3dfd5",
   "metadata": {
    "papermill": {
     "duration": 0.019241,
     "end_time": "2021-06-17T12:39:32.846486",
     "exception": false,
     "start_time": "2021-06-17T12:39:32.827245",
     "status": "completed"
    },
    "tags": []
   },
   "source": [
    "**Learner**"
   ]
  },
  {
   "cell_type": "code",
   "execution_count": null,
   "id": "0ec12c94",
   "metadata": {
    "papermill": {
     "duration": 0.027901,
     "end_time": "2021-06-17T12:39:32.893799",
     "exception": false,
     "start_time": "2021-06-17T12:39:32.865898",
     "status": "completed"
    },
    "tags": []
   },
   "outputs": [],
   "source": [
    "import torch.nn as nn\n",
    "import pytorch_lightning as pl\n",
    "\n",
    "class Learner(pl.LightningModule):\n",
    "    def __init__(self, x0:torch.Tensor, t_span:torch.Tensor, model:nn.Module, *,\n",
    "                  trainloader: data.DataLoader = trainloader,\n",
    "                  lr = 0.005):\n",
    "        super().__init__()\n",
    "        self.register_buffer('x0', x0)\n",
    "        self.register_buffer('t_span', t_span)\n",
    "        self.model = model\n",
    "        # self.x0, self.t_span, self.model = x0, t_span, model\n",
    "        self.trainloader = trainloader\n",
    "        self.lr = lr\n",
    "    \n",
    "    def forward(self, x):\n",
    "        return self.model(x)\n",
    "    \n",
    "    def training_step(self, batch, batch_idx):\n",
    "        x = self.x0\n",
    "        y = batch[0]      \n",
    "        y_hat = self.model(x, self.t_span)\n",
    "        loss = nn.MSELoss()(y_hat, y)\n",
    "        self.log(\"loss\", loss, prog_bar=True, on_step=False, on_epoch=True, logger = False)\n",
    "        return {'loss': loss}   \n",
    "    \n",
    "    def configure_optimizers(self):\n",
    "        return torch.optim.Adam(self.model.parameters(), lr=self.lr)\n",
    "\n",
    "    def train_dataloader(self):\n",
    "        return self.trainloader"
   ]
  },
  {
   "cell_type": "markdown",
   "id": "c83672c4",
   "metadata": {
    "papermill": {
     "duration": 0.019388,
     "end_time": "2021-06-17T12:39:32.936640",
     "exception": false,
     "start_time": "2021-06-17T12:39:32.917252",
     "status": "completed"
    },
    "tags": []
   },
   "source": [
    "**Note:** In this notebook we will consider the depth domain $[0,1]$, i.e. $t\\in[0,1]$. Note that, for most architectures in *static* settings (aka we do not deal with dynamic data) any other depth domain does not actually affect the expressiveness of Neural ODEs, since it can be seen as a rescaled/shifted version of $[0,1]$. Please note that, however, other choices of the depth domain can indeed affect the training phase\n",
    "\n",
    "The depth domain can be accessed and modified through the `t_span` setting of `NeuralODE` instances."
   ]
  },
  {
   "cell_type": "markdown",
   "id": "7397e706",
   "metadata": {
    "papermill": {
     "duration": 0.019488,
     "end_time": "2021-06-17T12:39:32.975753",
     "exception": false,
     "start_time": "2021-06-17T12:39:32.956265",
     "status": "completed"
    },
    "tags": []
   },
   "source": [
    "## Vanilla Neural ODE (Depth-Invariant)"
   ]
  },
  {
   "cell_type": "markdown",
   "id": "6d3ec4d3",
   "metadata": {
    "papermill": {
     "duration": 0.019643,
     "end_time": "2021-06-17T12:39:33.014980",
     "exception": false,
     "start_time": "2021-06-17T12:39:32.995337",
     "status": "completed"
    },
    "tags": []
   },
   "source": [
    "$$ \\left\\{\n",
    "    \\begin{aligned}\n",
    "        \\dot{z}(t) &= f(z(t), \\theta)\\\\\n",
    "        z(0) &= x\\\\\n",
    "        \\hat y & = z(1)\n",
    "    \\end{aligned}\n",
    "    \\right. \\quad t\\in[0,1]\n",
    "$$"
   ]
  },
  {
   "cell_type": "markdown",
   "id": "6923c9a3",
   "metadata": {
    "papermill": {
     "duration": 0.019468,
     "end_time": "2021-06-17T12:39:33.054014",
     "exception": false,
     "start_time": "2021-06-17T12:39:33.034546",
     "status": "completed"
    },
    "tags": []
   },
   "source": [
    "This model is the same used in [torchdyn quickstart](./00_quickstart.html) tutorial. The vector field is parametrized by a neural network $f$ with *static* parameters $\\theta$ and taking as input only the state $h(s)$."
   ]
  },
  {
   "cell_type": "code",
   "execution_count": null,
   "id": "2409a924",
   "metadata": {},
   "outputs": [],
   "source": [
    "\n",
    "losses = []\n",
    "losses_extrapolation = []\n",
    "fit_times = []\n",
    "\n",
    "for i in range(experiments):\n",
    "        print(f'Experiment {i+1}')\n",
    "        torch.manual_seed(i)\n",
    "        width = 128\n",
    "        f = CustomMLP(order,width,width,order)\n",
    "\n",
    "        model = NeuralODE(f, sensitivity='autograd', solver='midpoint', interpolator=None, atol=1e-3, rtol=1e-3,return_t_eval=False)\n",
    "        # train the Neural ODE\n",
    "        learn = Learner(x_train, t_train, model, lr = 0.0025)\n",
    "        trainer = pl.Trainer(max_epochs=epochs)\n",
    "        \n",
    "        start_time = time.time()\n",
    "        trainer.fit(learn)\n",
    "        end_time = time.time()\n",
    "        fit_time = end_time - start_time\n",
    "        fit_times.append(fit_time)\n",
    "        \n",
    "        trajectory = model(x0, t)\n",
    "        trajectory = trajectory.squeeze(1).detach()\n",
    "        loss_ground = nn.MSELoss()(trajectory, sol)       \n",
    "        # loss_ground = np.mean((trajectory - sol)**2)\n",
    "        losses.append(loss_ground)\n",
    "\n",
    "        # Extrapolation\n",
    "        trajectory_extrapolated = model(x0, 2*t)\n",
    "        trajectory_extrapolated = trajectory_extrapolated.squeeze(1).detach()\n",
    "        loss_extra = nn.MSELoss()(trajectory_extrapolated, sol_extrapolated)\n",
    "        losses_extrapolation.append(loss_extra)\n",
    "\n",
    "\n",
    "mean_loss = np.mean(losses)\n",
    "std_loss = np.std(losses)\n",
    "mean_extra = np.mean(losses_extrapolation)\n",
    "std_extra = np.std(losses_extrapolation)\n",
    "mean_fit_time = np.mean(fit_times)\n",
    "std_fit_time = np.std(fit_times)\n",
    "\n",
    "mean_loss, std_loss, mean_extra, std_extra, mean_fit_time, std_fit_time"
   ]
  },
  {
   "cell_type": "code",
   "execution_count": null,
   "id": "10f31709",
   "metadata": {
    "papermill": {
     "duration": 16.239834,
     "end_time": "2021-06-17T12:39:49.372314",
     "exception": false,
     "start_time": "2021-06-17T12:39:33.132480",
     "status": "completed"
    },
    "tags": []
   },
   "outputs": [],
   "source": [
    "model_node = model"
   ]
  },
  {
   "cell_type": "markdown",
   "id": "e83d9623",
   "metadata": {
    "papermill": {
     "duration": 0.020305,
     "end_time": "2021-06-17T12:39:49.413997",
     "exception": false,
     "start_time": "2021-06-17T12:39:49.393692",
     "status": "completed"
    },
    "tags": []
   },
   "source": [
    "**Plots**"
   ]
  },
  {
   "cell_type": "code",
   "execution_count": null,
   "id": "d18a1e08",
   "metadata": {
    "papermill": {
     "duration": 0.18947,
     "end_time": "2021-06-17T12:39:49.623851",
     "exception": true,
     "start_time": "2021-06-17T12:39:49.434381",
     "status": "failed"
    },
    "tags": []
   },
   "outputs": [],
   "source": [
    "trajectory = model(x_train, t)\n",
    "trajectory = trajectory.detach().numpy()"
   ]
  },
  {
   "cell_type": "code",
   "execution_count": null,
   "id": "8f9eadc1",
   "metadata": {},
   "outputs": [],
   "source": [
    "# Baseline Simulation with SciPy\n",
    "\n",
    "plt.plot(t,sol[:,0], label = 'X_baseline')\n",
    "plt.plot(t,sol[:,1], label = 'Y_baseline')\n",
    "plt.plot(t,trajectory[...,0], label = 'X')\n",
    "plt.plot(t,trajectory[...,1], label = 'Y')\n",
    "plt.title(eq_name)"
   ]
  },
  {
   "cell_type": "code",
   "execution_count": null,
   "id": "4955daee",
   "metadata": {},
   "outputs": [],
   "source": [
    "trajectory_extrapolated = model(x_train, 2*t)\n",
    "trajectory_extrapolated = trajectory_extrapolated.detach().numpy()"
   ]
  },
  {
   "cell_type": "code",
   "execution_count": null,
   "id": "50871968",
   "metadata": {},
   "outputs": [],
   "source": [
    "# Baseline Simulation with SciPy\n",
    "\n",
    "plt.plot(2*t,sol_extrapolated[:,0], label = 'X_baseline')\n",
    "plt.plot(2*t,sol_extrapolated[:,1], label = 'Y_baseline')\n",
    "plt.plot(2*t,trajectory_extrapolated[...,0], label = 'X')\n",
    "plt.plot(2*t,trajectory_extrapolated[...,1], label = 'Y')\n",
    "plt.title(eq_name)"
   ]
  },
  {
   "cell_type": "markdown",
   "id": "ec6cbaa3",
   "metadata": {},
   "source": [
    "## Pseudo-Flows (MLP-PINNs)"
   ]
  },
  {
   "cell_type": "code",
   "execution_count": null,
   "id": "604d3786",
   "metadata": {},
   "outputs": [],
   "source": [
    "\n",
    "losses = []\n",
    "losses_extrapolation = []\n",
    "fit_times = []\n",
    "\n",
    "for i in range(experiments):\n",
    "        print(f'Experiment {i+1}')\n",
    "        torch.manual_seed(i)\n",
    "        width = 128\n",
    "        f = CustomMLP(order+1,width,width,order,fourier_feature=True)\n",
    "\n",
    "        model = SemiFlow(f)\n",
    "        # train the Neural ODE\n",
    "        learn = Learner(x_train, t_train, model, lr = 0.0025)\n",
    "        trainer = pl.Trainer(max_epochs=epochs)\n",
    "        \n",
    "        start_time = time.time()\n",
    "        trainer.fit(learn)\n",
    "        end_time = time.time()\n",
    "        fit_time = end_time - start_time\n",
    "        fit_times.append(fit_time)\n",
    "        \n",
    "        trajectory = model(x0, t)\n",
    "        trajectory = trajectory.detach()  \n",
    "        loss_ground = nn.MSELoss()(trajectory, sol)      \n",
    "        losses.append(loss_ground)\n",
    "\n",
    "        # Extrapolation\n",
    "        trajectory_extrapolated = model(x0, 2*t)\n",
    "        trajectory_extrapolated = trajectory_extrapolated.detach()\n",
    "        loss_extra = nn.MSELoss()(trajectory_extrapolated, sol_extrapolated)\n",
    "        losses_extrapolation.append(loss_extra)\n",
    "\n",
    "\n",
    "mean_loss = np.mean(losses)\n",
    "std_loss = np.std(losses)\n",
    "mean_extra = np.mean(losses_extrapolation)\n",
    "std_extra = np.std(losses_extrapolation)\n",
    "mean_fit_time = np.mean(fit_times)\n",
    "std_fit_time = np.std(fit_times)\n",
    "\n",
    "mean_loss, std_loss, mean_extra, std_extra, mean_fit_time, std_fit_time"
   ]
  },
  {
   "cell_type": "code",
   "execution_count": null,
   "id": "dc65e45c",
   "metadata": {},
   "outputs": [],
   "source": [
    "model_pseudo = model"
   ]
  },
  {
   "cell_type": "markdown",
   "id": "bb9e1499",
   "metadata": {},
   "source": [
    "**Plots**"
   ]
  },
  {
   "cell_type": "code",
   "execution_count": null,
   "id": "dfe9681e",
   "metadata": {},
   "outputs": [],
   "source": [
    "trajectory = model(x_train, t)\n",
    "trajectory = trajectory.detach().numpy()"
   ]
  },
  {
   "cell_type": "code",
   "execution_count": null,
   "id": "acc98a43",
   "metadata": {},
   "outputs": [],
   "source": [
    "# Baseline Simulation with SciPy\n",
    "\n",
    "plt.plot(t,sol[:,0], label = 'X_baseline')\n",
    "plt.plot(t,sol[:,1], label = 'Y_baseline')\n",
    "plt.plot(t,trajectory[...,0], label = 'X')\n",
    "plt.plot(t,trajectory[...,1], label = 'Y')\n",
    "plt.title(eq_name)"
   ]
  },
  {
   "cell_type": "code",
   "execution_count": null,
   "id": "a985a9bf",
   "metadata": {},
   "outputs": [],
   "source": [
    "trajectory_extrapolated = model(x_train, 2*t)\n",
    "trajectory_extrapolated = trajectory_extrapolated.detach().numpy()"
   ]
  },
  {
   "cell_type": "code",
   "execution_count": null,
   "id": "b52ab5cd",
   "metadata": {},
   "outputs": [],
   "source": [
    "# Baseline Simulation with SciPy\n",
    "\n",
    "plt.plot(2*t,sol_extrapolated[:,0], label = 'X_baseline')\n",
    "plt.plot(2*t,sol_extrapolated[:,1], label = 'Y_baseline')\n",
    "plt.plot(2*t,trajectory_extrapolated[...,0], label = 'X')\n",
    "plt.plot(2*t,trajectory_extrapolated[...,1], label = 'Y')\n",
    "plt.title(eq_name)"
   ]
  },
  {
   "cell_type": "markdown",
   "id": "f96b949a",
   "metadata": {},
   "source": [
    "## Neural Conjugate Flows (No Topology)"
   ]
  },
  {
   "cell_type": "code",
   "execution_count": null,
   "id": "2893ef65",
   "metadata": {},
   "outputs": [],
   "source": [
    "twin_times = 1+1\n",
    "twin_order = order*twin_times\n",
    "twin_order\n",
    "\n",
    "x_train_twinned = torch.cat([x_train]*twin_times, dim=-1)\n",
    "y_train_twinned = torch.cat([y_train]*twin_times, dim=-1)\n",
    "train_twinned = data.TensorDataset(y_train_twinned)\n",
    "trainloader_twinned = data.DataLoader(train_twinned, batch_size=len(t_train), shuffle=False)"
   ]
  },
  {
   "cell_type": "code",
   "execution_count": null,
   "id": "85724779",
   "metadata": {},
   "outputs": [],
   "source": [
    "M0 = ncf_matrix_init(eq,x_train,pad_mode='twin',pad_times=twin_times)\n",
    "# M0 = eq.jacobian(x_train)\n",
    "M0, M0.shape\n"
   ]
  },
  {
   "cell_type": "code",
   "execution_count": null,
   "id": "9da62ffd",
   "metadata": {},
   "outputs": [],
   "source": [
    "losses = []\n",
    "losses_extrapolation = []\n",
    "fit_times = []\n",
    "\n",
    "for i in range(experiments):\n",
    "        print(f'Experiment {i+1}')\n",
    "        torch.manual_seed(i)\n",
    "        width = 100\n",
    "\n",
    "\n",
    "        Psi = LinearFlow(twin_order*twin_order, M0 = M0,omega_zero=1.0)\n",
    "        s = CustomMLP(twin_order//2,width,width,twin_order//2)\n",
    "        coupling = AdditiveCouplingLayer(s)\n",
    "        s2 = CustomMLP(twin_order//2,width,width,twin_order//2)\n",
    "        coupling2 = AdditiveCouplingLayer(s2, orientation='skew')\n",
    "\n",
    "        layers = [coupling, coupling2]\n",
    "\n",
    "        model = NeuralConjugate(layers, Psi, pad='no')\n",
    "        # train the Neural ODE\n",
    "        learn = Learner(x_train_twinned, t_train, model, lr = 0.0025,trainloader=trainloader_twinned)\n",
    "        trainer = pl.Trainer(max_epochs=epochs)\n",
    "        \n",
    "        start_time = time.time()\n",
    "        trainer.fit(learn)\n",
    "        end_time = time.time()\n",
    "        fit_time = end_time - start_time\n",
    "        fit_times.append(fit_time)\n",
    "        \n",
    "        trajectory = model(x_train_twinned, t)\n",
    "        trajectory = trajectory[...,:4].detach()\n",
    "        loss_ground = nn.MSELoss()(trajectory, sol)     \n",
    "        losses.append(loss_ground)\n",
    "\n",
    "        # Extrapolation\n",
    "        trajectory_extrapolated = model(x_train_twinned, 2*t)\n",
    "        trajectory_extrapolated = trajectory_extrapolated[...,:4].detach()\n",
    "        loss_extra = nn.MSELoss()(trajectory_extrapolated, sol_extrapolated)\n",
    "        losses_extrapolation.append(loss_extra)\n",
    "\n",
    "\n",
    "mean_loss = np.mean(losses)\n",
    "std_loss = np.std(losses)\n",
    "mean_extra = np.mean(losses_extrapolation)\n",
    "std_extra = np.std(losses_extrapolation)\n",
    "mean_fit_time = np.mean(fit_times)\n",
    "std_fit_time = np.std(fit_times)\n",
    "\n",
    "mean_loss, std_loss, mean_extra, std_extra, mean_fit_time, std_fit_time"
   ]
  },
  {
   "cell_type": "code",
   "execution_count": null,
   "id": "62985695",
   "metadata": {},
   "outputs": [],
   "source": [
    "# torch.manual_seed(1)\n",
    "\n",
    "# order = 2*twin_times\n",
    "# width = 32\n",
    "\n",
    "# Psi = LinearFlow(order*order, M0 = M0, lie_algebra='skew_symmetric',omega_zero=1.0)\n",
    "\n",
    "\n",
    "# o = OrthogonalLayer(order,order,bias = True)\n",
    "# s = CustomMLP(order//2,width,width,order//2)\n",
    "# coupling = AdditiveCouplingLayer(s)\n",
    "# s2 = CustomMLP(order//2,width,width,order//2)\n",
    "# coupling2 = AdditiveCouplingLayer(s2, orientation='skew')\n",
    "\n",
    "# # layers = [o,coupling, coupling2]\n",
    "# layers = [coupling, coupling2]\n",
    "# # layers = []\n",
    "\n",
    "# model = NeuralConjugate(layers, Psi, pad='no')\n",
    "# # model = NeuralConjugate(layers, Psi)"
   ]
  },
  {
   "cell_type": "code",
   "execution_count": null,
   "id": "1b1b87e3",
   "metadata": {},
   "outputs": [],
   "source": [
    "# plt.plot(2*t,Psi(x_train_twinned,2*t)[...,0].detach().numpy(), label = 'X_baseline')\n",
    "# plt.plot(2*t,Psi(x_train_twinned,2*t)[...,1].detach().numpy(), label = 'X_baseline')\n",
    "# plt.plot(2*t,Psi(x_train_twinned,2*t)[...,2].detach().numpy(), label = 'X_baseline')\n",
    "# plt.plot(2*t,Psi(x_train_twinned,2*t)[...,3].detach().numpy(), label = 'X_baseline')\n",
    "# # x_train_twinned.shape\n",
    "# # hmm = x_train_twinned.unsqueeze(0)\n",
    "# # hmm = hmm.transpose(1,2)"
   ]
  },
  {
   "cell_type": "code",
   "execution_count": null,
   "id": "cb676118",
   "metadata": {},
   "outputs": [],
   "source": [
    "# # train the Neural ODE\n",
    "# learn = Learner(x_train_twinned, t_train, model, trainloader = trainloader_twinned, lr = 0.0025)\n",
    "# # learn = Learner(x_train, t_train, model)\n",
    "# trainer = pl.Trainer(max_epochs=2000)\n",
    "# trainer.fit(learn)"
   ]
  },
  {
   "cell_type": "markdown",
   "id": "44f68e2b",
   "metadata": {},
   "source": [
    "**Plots**"
   ]
  },
  {
   "cell_type": "code",
   "execution_count": null,
   "id": "354c93db",
   "metadata": {},
   "outputs": [],
   "source": [
    "trajectory = model(x_train_twinned, t)\n",
    "# _ , trajectory = model(x_train, t)\n",
    "trajectory = trajectory.detach()"
   ]
  },
  {
   "cell_type": "code",
   "execution_count": null,
   "id": "bc98bc95",
   "metadata": {},
   "outputs": [],
   "source": [
    "# Baseline Simulation with SciPy\n",
    "\n",
    "plt.plot(t,sol[:,0], label = 'X_baseline')\n",
    "plt.plot(t,sol[:,1], label = 'Y_baseline')\n",
    "plt.plot(t,trajectory[...,0], label = 'X')\n",
    "plt.plot(t,trajectory[...,1], label = 'Y')\n",
    "plt.title(eq_name)"
   ]
  },
  {
   "cell_type": "code",
   "execution_count": null,
   "id": "cc5fe643",
   "metadata": {},
   "outputs": [],
   "source": [
    "trajectory_extrapolated = model(x_train_twinned, 2*t)\n",
    "# _ , trajectory_extrapolated = model(x_train, 2*t)\n",
    "trajectory_extrapolated = trajectory_extrapolated.detach()"
   ]
  },
  {
   "cell_type": "code",
   "execution_count": null,
   "id": "db4f4d7b",
   "metadata": {},
   "outputs": [],
   "source": [
    "# Baseline Simulation with SciPy\n",
    "extra = 3\n",
    "\n",
    "plt.plot(2*t,sol_extrapolated[:,0], label = 'X_baseline')\n",
    "# plt.plot(2*t,sol_extrapolated[1], label = 'Y_baseline')\n",
    "plt.plot(2*t,trajectory_extrapolated[...,0], label = 'X')\n",
    "# plt.plot(2*t,trajectory_extrapolated[...,1], label = 'Y')\n",
    "# plt.plot(2*t,trajectory_extrapolated[...,2], label = 'X')\n",
    "# plt.plot(2*t,trajectory_extrapolated[...,3], label = 'Y')\n",
    "plt.title(eq_name)"
   ]
  },
  {
   "cell_type": "markdown",
   "id": "645af43d",
   "metadata": {},
   "source": [
    "## Neural Conjugate Flows (With Topology)"
   ]
  },
  {
   "cell_type": "code",
   "execution_count": null,
   "id": "284f8aff",
   "metadata": {},
   "outputs": [],
   "source": [
    "twin_times = 1+1\n",
    "\n",
    "x_train_twinned = torch.cat([x_train]*twin_times, dim=-1)\n",
    "y_train_twinned = torch.cat([y_train]*twin_times, dim=-1)\n",
    "train_twinned = data.TensorDataset(y_train_twinned)\n",
    "trainloader_twinned = data.DataLoader(train_twinned, batch_size=len(t_train), shuffle=False)"
   ]
  },
  {
   "cell_type": "code",
   "execution_count": null,
   "id": "b385b324",
   "metadata": {},
   "outputs": [],
   "source": [
    "M0 = ncf_matrix_init(eq,x_train,pad_mode='twin',pad_times=twin_times)\n",
    "# M0 = eq.jacobian(x_train)\n",
    "M0.shape\n"
   ]
  },
  {
   "cell_type": "code",
   "execution_count": null,
   "id": "5cd26f30",
   "metadata": {},
   "outputs": [],
   "source": [
    "\n",
    "losses = []\n",
    "losses_extrapolation = []\n",
    "fit_times = []\n",
    "\n",
    "twin_order = order*twin_times\n",
    "twin_order\n"
   ]
  },
  {
   "cell_type": "code",
   "execution_count": null,
   "id": "94f8e375",
   "metadata": {},
   "outputs": [],
   "source": [
    "\n",
    "for i in range(experiments):\n",
    "        print(f'Experiment {i+1}')\n",
    "        torch.manual_seed(i)\n",
    "        width = 90\n",
    "\n",
    "        Psi = LinearFlow(twin_order*twin_order, M0 = M0,omega_zero=5)\n",
    "\n",
    "        s = CustomMLP(twin_order//2,width,width,twin_order//2)\n",
    "        coupling = AdditiveCouplingLayer(s)\n",
    "        s2 = CustomMLP(twin_order//2,width,width,twin_order//2)\n",
    "        coupling2 = AdditiveCouplingLayer(s2, orientation='skew')\n",
    "\n",
    "        layers = [coupling, coupling2]\n",
    "\n",
    "        model = NeuralConjugate(layers, Psi, pad='no')\n",
    "        # train the Neural ODE\n",
    "        learn = Learner(x_train_twinned, t_train, model, lr = 0.0025,trainloader=trainloader_twinned)\n",
    "        trainer = pl.Trainer(max_epochs=epochs)\n",
    "        \n",
    "        start_time = time.time()\n",
    "        trainer.fit(learn)\n",
    "        end_time = time.time()\n",
    "        fit_time = end_time - start_time\n",
    "        fit_times.append(fit_time)\n",
    "        \n",
    "        trajectory = model(x_train_twinned, t)\n",
    "        trajectory = trajectory.squeeze(1)[...,:4].detach()\n",
    "        loss_ground = nn.MSELoss()(trajectory, sol)    \n",
    "        losses.append(loss_ground)\n",
    "\n",
    "        # Extrapolation\n",
    "        trajectory_extrapolated = model(x_train_twinned, 2*t)\n",
    "        trajectory_extrapolated = trajectory_extrapolated[...,:4].detach()\n",
    "        loss_extra = nn.MSELoss()(trajectory_extrapolated, sol_extrapolated)\n",
    "        losses_extrapolation.append(loss_extra)\n",
    "\n",
    "\n",
    "mean_loss = np.mean(losses)\n",
    "std_loss = np.std(losses)\n",
    "mean_extra = np.mean(losses_extrapolation)\n",
    "std_extra = np.std(losses_extrapolation)\n",
    "mean_fit_time = np.mean(fit_times)\n",
    "std_fit_time = np.std(fit_times)\n",
    "\n",
    "mean_loss, std_loss, mean_extra, std_extra, mean_fit_time, std_fit_time"
   ]
  },
  {
   "cell_type": "markdown",
   "id": "adafbb6b",
   "metadata": {},
   "source": [
    "**Plots**"
   ]
  },
  {
   "cell_type": "code",
   "execution_count": null,
   "id": "d304921e",
   "metadata": {},
   "outputs": [],
   "source": [
    "trajectory = model(x_train_twinned, t)\n",
    "# _ , trajectory = model(x_train, t)\n",
    "trajectory = trajectory.detach().numpy()"
   ]
  },
  {
   "cell_type": "code",
   "execution_count": null,
   "id": "c5e20b41",
   "metadata": {},
   "outputs": [],
   "source": [
    "# Baseline Simulation with SciPy\n",
    "\n",
    "plt.plot(t,sol[...,0], label = 'X_baseline')\n",
    "plt.plot(t,sol[...,1], label = 'Y_baseline')\n",
    "plt.plot(t,trajectory[...,0], label = 'X')\n",
    "plt.plot(t,trajectory[...,1], label = 'Y')\n",
    "plt.title(eq_name)"
   ]
  },
  {
   "cell_type": "code",
   "execution_count": null,
   "id": "26dd0787",
   "metadata": {},
   "outputs": [],
   "source": [
    "trajectory_extrapolated = model(x_train_twinned, 2*t)\n",
    "# _ , trajectory_extrapolated = model(x_train, 2*t)\n",
    "trajectory_extrapolated = trajectory_extrapolated.detach().numpy()"
   ]
  },
  {
   "cell_type": "code",
   "execution_count": null,
   "id": "4b361eb1",
   "metadata": {},
   "outputs": [],
   "source": [
    "# Baseline Simulation with SciPy\n",
    "extra = 3\n",
    "\n",
    "plt.plot(2*t,sol_extrapolated[...,0], label = 'X_baseline')\n",
    "# plt.plot(2*t,sol_extrapolated[1], label = 'Y_baseline')\n",
    "plt.plot(2*t,trajectory_extrapolated[...,0], label = 'X')\n",
    "# plt.plot(2*t,trajectory_extrapolated[...,1], label = 'Y')\n",
    "# plt.plot(2*t,trajectory_extrapolated[...,2], label = 'X')\n",
    "# plt.plot(2*t,trajectory_extrapolated[...,3], label = 'Y')\n",
    "plt.title(eq_name)"
   ]
  },
  {
   "cell_type": "code",
   "execution_count": null,
   "id": "65cc7786",
   "metadata": {},
   "outputs": [],
   "source": [
    "mlp_extrapolated = model_pseudo(x_train, 2*t)\n",
    "mlp_extrapolated = mlp_extrapolated.detach().numpy()\n",
    "node_extrapolated = model_node(x_train, 2*t)\n",
    "node_extrapolated = node_extrapolated.detach().numpy()"
   ]
  },
  {
   "cell_type": "code",
   "execution_count": null,
   "id": "4eadcc17",
   "metadata": {},
   "outputs": [],
   "source": [
    "t = t.numpy()\n",
    "fig, ax = plt.subplots()\n",
    "ax.plot(2*speed*t,10*sol_extrapolated[...,0], label = 'X_baseline')\n",
    "ax.plot(2*speed*t,10*mlp_extrapolated[...,0], label = 'X', marker = \"+\",markevery=3, linestyle = '--')\n",
    "ax.plot(2*speed*t,10*node_extrapolated[...,0], label = 'X', marker = \"x\", markevery=3, linestyle = '-.')\n",
    "ax.plot(2*speed*t,10*trajectory_extrapolated[...,0], label = 'X', marker = \"o\", markevery=3, linestyle = '-.')\n",
    "lims = [-0,70]\n",
    "ax.set_ylim(lims)\n",
    "ax.set_xlim([0,28])\n",
    "# ax.set_aspect(3/4)\n",
    "ax.vlines(14.0,*lims, linestyles='dashed', colors='gray')\n",
    "plt.title(\"Hodgkin-Huxley Neuron Model\")\n",
    "plt.legend([\"Baseline\",\"MLP\",\"NODE\",\"NCF\", \"Training Limit\"])\n",
    "plt.xlabel(\"Time (ms)\")\n",
    "plt.ylabel(\"Neuron Potential (mV)\")"
   ]
  },
  {
   "cell_type": "code",
   "execution_count": null,
   "id": "fa15c002",
   "metadata": {},
   "outputs": [],
   "source": []
  }
 ],
 "metadata": {
  "kernelspec": {
   "display_name": "Python 3",
   "language": "python",
   "name": "python3"
  },
  "language_info": {
   "codemirror_mode": {
    "name": "ipython",
    "version": 3
   },
   "file_extension": ".py",
   "mimetype": "text/x-python",
   "name": "python",
   "nbconvert_exporter": "python",
   "pygments_lexer": "ipython3",
   "version": "3.12.4"
  },
  "latex_envs": {
   "LaTeX_envs_menu_present": true,
   "autoclose": false,
   "autocomplete": true,
   "bibliofile": "biblio.bib",
   "cite_by": "apalike",
   "current_citInitial": 1,
   "eqLabelWithNumbers": true,
   "eqNumInitial": 1,
   "hotkeys": {
    "equation": "Ctrl-E",
    "itemize": "Ctrl-I"
   },
   "labels_anchors": false,
   "latex_user_defs": false,
   "report_style_numbering": false,
   "user_envs_cfg": false
  },
  "papermill": {
   "default_parameters": {},
   "duration": 29.046384,
   "end_time": "2021-06-17T12:39:52.317291",
   "environment_variables": {},
   "exception": true,
   "input_path": "tutorials/01_neural_ode_cookbook.ipynb",
   "output_path": "tutorials/01_neural_ode_cookbook.ipynb",
   "parameters": {},
   "start_time": "2021-06-17T12:39:23.270907",
   "version": "2.3.3"
  },
  "varInspector": {
   "cols": {
    "lenName": 16,
    "lenType": 16,
    "lenVar": 40
   },
   "kernels_config": {
    "python": {
     "delete_cmd_postfix": "",
     "delete_cmd_prefix": "del ",
     "library": "var_list.py",
     "varRefreshCmd": "print(var_dic_list())"
    },
    "r": {
     "delete_cmd_postfix": ") ",
     "delete_cmd_prefix": "rm(",
     "library": "var_list.r",
     "varRefreshCmd": "cat(var_dic_list()) "
    }
   },
   "types_to_exclude": [
    "module",
    "function",
    "builtin_function_or_method",
    "instance",
    "_Feature"
   ],
   "window_display": false
  },
  "widgets": {
   "application/vnd.jupyter.widget-state+json": {
    "state": {
     "149b167de0d34bb19d2b42a462867a37": {
      "model_module": "@jupyter-widgets/controls",
      "model_module_version": "1.5.0",
      "model_name": "HTMLModel",
      "state": {
       "_dom_classes": [],
       "_model_module": "@jupyter-widgets/controls",
       "_model_module_version": "1.5.0",
       "_model_name": "HTMLModel",
       "_view_count": null,
       "_view_module": "@jupyter-widgets/controls",
       "_view_module_version": "1.5.0",
       "_view_name": "HTMLView",
       "description": "",
       "description_tooltip": null,
       "layout": "IPY_MODEL_7edc403926834204a535f29f32ab11ea",
       "placeholder": "​",
       "style": "IPY_MODEL_3d19990298ff4aab902b6d79c3395c75",
       "value": " 1/1 [00:00&lt;00:00, 12.13it/s, loss=0.000996, v_num=151]"
      }
     },
     "3d19990298ff4aab902b6d79c3395c75": {
      "model_module": "@jupyter-widgets/controls",
      "model_module_version": "1.5.0",
      "model_name": "DescriptionStyleModel",
      "state": {
       "_model_module": "@jupyter-widgets/controls",
       "_model_module_version": "1.5.0",
       "_model_name": "DescriptionStyleModel",
       "_view_count": null,
       "_view_module": "@jupyter-widgets/base",
       "_view_module_version": "1.2.0",
       "_view_name": "StyleView",
       "description_width": ""
      }
     },
     "42e88b6a8f184fe5aea27524a796ba5f": {
      "model_module": "@jupyter-widgets/base",
      "model_module_version": "1.2.0",
      "model_name": "LayoutModel",
      "state": {
       "_model_module": "@jupyter-widgets/base",
       "_model_module_version": "1.2.0",
       "_model_name": "LayoutModel",
       "_view_count": null,
       "_view_module": "@jupyter-widgets/base",
       "_view_module_version": "1.2.0",
       "_view_name": "LayoutView",
       "align_content": null,
       "align_items": null,
       "align_self": null,
       "border": null,
       "bottom": null,
       "display": null,
       "flex": null,
       "flex_flow": null,
       "grid_area": null,
       "grid_auto_columns": null,
       "grid_auto_flow": null,
       "grid_auto_rows": null,
       "grid_column": null,
       "grid_gap": null,
       "grid_row": null,
       "grid_template_areas": null,
       "grid_template_columns": null,
       "grid_template_rows": null,
       "height": null,
       "justify_content": null,
       "justify_items": null,
       "left": null,
       "margin": null,
       "max_height": null,
       "max_width": null,
       "min_height": null,
       "min_width": null,
       "object_fit": null,
       "object_position": null,
       "order": null,
       "overflow": null,
       "overflow_x": null,
       "overflow_y": null,
       "padding": null,
       "right": null,
       "top": null,
       "visibility": null,
       "width": null
      }
     },
     "7edc403926834204a535f29f32ab11ea": {
      "model_module": "@jupyter-widgets/base",
      "model_module_version": "1.2.0",
      "model_name": "LayoutModel",
      "state": {
       "_model_module": "@jupyter-widgets/base",
       "_model_module_version": "1.2.0",
       "_model_name": "LayoutModel",
       "_view_count": null,
       "_view_module": "@jupyter-widgets/base",
       "_view_module_version": "1.2.0",
       "_view_name": "LayoutView",
       "align_content": null,
       "align_items": null,
       "align_self": null,
       "border": null,
       "bottom": null,
       "display": null,
       "flex": null,
       "flex_flow": null,
       "grid_area": null,
       "grid_auto_columns": null,
       "grid_auto_flow": null,
       "grid_auto_rows": null,
       "grid_column": null,
       "grid_gap": null,
       "grid_row": null,
       "grid_template_areas": null,
       "grid_template_columns": null,
       "grid_template_rows": null,
       "height": null,
       "justify_content": null,
       "justify_items": null,
       "left": null,
       "margin": null,
       "max_height": null,
       "max_width": null,
       "min_height": null,
       "min_width": null,
       "object_fit": null,
       "object_position": null,
       "order": null,
       "overflow": null,
       "overflow_x": null,
       "overflow_y": null,
       "padding": null,
       "right": null,
       "top": null,
       "visibility": null,
       "width": null
      }
     },
     "9e6d916473ed4e1098d0ef84e221ee26": {
      "model_module": "@jupyter-widgets/controls",
      "model_module_version": "1.5.0",
      "model_name": "DescriptionStyleModel",
      "state": {
       "_model_module": "@jupyter-widgets/controls",
       "_model_module_version": "1.5.0",
       "_model_name": "DescriptionStyleModel",
       "_view_count": null,
       "_view_module": "@jupyter-widgets/base",
       "_view_module_version": "1.2.0",
       "_view_name": "StyleView",
       "description_width": ""
      }
     },
     "a6fc6d4e706647bba5caa2d4b99b5f45": {
      "model_module": "@jupyter-widgets/controls",
      "model_module_version": "1.5.0",
      "model_name": "FloatProgressModel",
      "state": {
       "_dom_classes": [],
       "_model_module": "@jupyter-widgets/controls",
       "_model_module_version": "1.5.0",
       "_model_name": "FloatProgressModel",
       "_view_count": null,
       "_view_module": "@jupyter-widgets/controls",
       "_view_module_version": "1.5.0",
       "_view_name": "ProgressView",
       "bar_style": "success",
       "description": "",
       "description_tooltip": null,
       "layout": "IPY_MODEL_ae659a85c83c42fe9613bef07097ec09",
       "max": 1,
       "min": 0,
       "orientation": "horizontal",
       "style": "IPY_MODEL_cd126243574a4a27b9b2ea0f3b33afbf",
       "value": 1
      }
     },
     "ae659a85c83c42fe9613bef07097ec09": {
      "model_module": "@jupyter-widgets/base",
      "model_module_version": "1.2.0",
      "model_name": "LayoutModel",
      "state": {
       "_model_module": "@jupyter-widgets/base",
       "_model_module_version": "1.2.0",
       "_model_name": "LayoutModel",
       "_view_count": null,
       "_view_module": "@jupyter-widgets/base",
       "_view_module_version": "1.2.0",
       "_view_name": "LayoutView",
       "align_content": null,
       "align_items": null,
       "align_self": null,
       "border": null,
       "bottom": null,
       "display": null,
       "flex": "2",
       "flex_flow": null,
       "grid_area": null,
       "grid_auto_columns": null,
       "grid_auto_flow": null,
       "grid_auto_rows": null,
       "grid_column": null,
       "grid_gap": null,
       "grid_row": null,
       "grid_template_areas": null,
       "grid_template_columns": null,
       "grid_template_rows": null,
       "height": null,
       "justify_content": null,
       "justify_items": null,
       "left": null,
       "margin": null,
       "max_height": null,
       "max_width": null,
       "min_height": null,
       "min_width": null,
       "object_fit": null,
       "object_position": null,
       "order": null,
       "overflow": null,
       "overflow_x": null,
       "overflow_y": null,
       "padding": null,
       "right": null,
       "top": null,
       "visibility": null,
       "width": null
      }
     },
     "cd126243574a4a27b9b2ea0f3b33afbf": {
      "model_module": "@jupyter-widgets/controls",
      "model_module_version": "1.5.0",
      "model_name": "ProgressStyleModel",
      "state": {
       "_model_module": "@jupyter-widgets/controls",
       "_model_module_version": "1.5.0",
       "_model_name": "ProgressStyleModel",
       "_view_count": null,
       "_view_module": "@jupyter-widgets/base",
       "_view_module_version": "1.2.0",
       "_view_name": "StyleView",
       "bar_color": null,
       "description_width": ""
      }
     },
     "e978be3a6a0d4cb4af34adfb7fe2bafb": {
      "model_module": "@jupyter-widgets/base",
      "model_module_version": "1.2.0",
      "model_name": "LayoutModel",
      "state": {
       "_model_module": "@jupyter-widgets/base",
       "_model_module_version": "1.2.0",
       "_model_name": "LayoutModel",
       "_view_count": null,
       "_view_module": "@jupyter-widgets/base",
       "_view_module_version": "1.2.0",
       "_view_name": "LayoutView",
       "align_content": null,
       "align_items": null,
       "align_self": null,
       "border": null,
       "bottom": null,
       "display": "inline-flex",
       "flex": null,
       "flex_flow": "row wrap",
       "grid_area": null,
       "grid_auto_columns": null,
       "grid_auto_flow": null,
       "grid_auto_rows": null,
       "grid_column": null,
       "grid_gap": null,
       "grid_row": null,
       "grid_template_areas": null,
       "grid_template_columns": null,
       "grid_template_rows": null,
       "height": null,
       "justify_content": null,
       "justify_items": null,
       "left": null,
       "margin": null,
       "max_height": null,
       "max_width": null,
       "min_height": null,
       "min_width": null,
       "object_fit": null,
       "object_position": null,
       "order": null,
       "overflow": null,
       "overflow_x": null,
       "overflow_y": null,
       "padding": null,
       "right": null,
       "top": null,
       "visibility": null,
       "width": "100%"
      }
     },
     "f3d08adc32d0462b978dec2b6ba1daa1": {
      "model_module": "@jupyter-widgets/controls",
      "model_module_version": "1.5.0",
      "model_name": "HBoxModel",
      "state": {
       "_dom_classes": [],
       "_model_module": "@jupyter-widgets/controls",
       "_model_module_version": "1.5.0",
       "_model_name": "HBoxModel",
       "_view_count": null,
       "_view_module": "@jupyter-widgets/controls",
       "_view_module_version": "1.5.0",
       "_view_name": "HBoxView",
       "box_style": "",
       "children": [
        "IPY_MODEL_f84e1e5544c845f7bef66f7cbd3cf841",
        "IPY_MODEL_a6fc6d4e706647bba5caa2d4b99b5f45",
        "IPY_MODEL_149b167de0d34bb19d2b42a462867a37"
       ],
       "layout": "IPY_MODEL_e978be3a6a0d4cb4af34adfb7fe2bafb"
      }
     },
     "f84e1e5544c845f7bef66f7cbd3cf841": {
      "model_module": "@jupyter-widgets/controls",
      "model_module_version": "1.5.0",
      "model_name": "HTMLModel",
      "state": {
       "_dom_classes": [],
       "_model_module": "@jupyter-widgets/controls",
       "_model_module_version": "1.5.0",
       "_model_name": "HTMLModel",
       "_view_count": null,
       "_view_module": "@jupyter-widgets/controls",
       "_view_module_version": "1.5.0",
       "_view_name": "HTMLView",
       "description": "",
       "description_tooltip": null,
       "layout": "IPY_MODEL_42e88b6a8f184fe5aea27524a796ba5f",
       "placeholder": "​",
       "style": "IPY_MODEL_9e6d916473ed4e1098d0ef84e221ee26",
       "value": "Epoch 249: 100%"
      }
     }
    },
    "version_major": 2,
    "version_minor": 0
   }
  }
 },
 "nbformat": 4,
 "nbformat_minor": 5
}
