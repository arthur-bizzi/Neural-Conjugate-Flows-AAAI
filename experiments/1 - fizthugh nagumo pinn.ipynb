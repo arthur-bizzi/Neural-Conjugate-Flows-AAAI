{
 "cells": [
  {
   "cell_type": "markdown",
   "id": "6530e77f",
   "metadata": {
    "papermill": {
     "duration": 0.024543,
     "end_time": "2021-06-17T12:39:24.039027",
     "exception": false,
     "start_time": "2021-06-17T12:39:24.014484",
     "status": "completed"
    },
    "tags": []
   },
   "source": [
    "# Experiment 1: FitzHugh-Nagumo Model"
   ]
  },
  {
   "cell_type": "code",
   "execution_count": null,
   "id": "49b482b1",
   "metadata": {},
   "outputs": [],
   "source": [
    "%load_ext autoreload\n",
    "%autoreload 2"
   ]
  },
  {
   "cell_type": "code",
   "execution_count": null,
   "id": "69086206",
   "metadata": {},
   "outputs": [],
   "source": [
    "# Import the necessary libraries\n",
    "import time \n",
    "\n",
    "import torch\n",
    "import torch.nn as nn\n",
    "import torch.utils.data as data\n",
    "import torch.utils.benchmark as benchmark\n",
    "\n",
    "import torchdyn\n",
    "from torchdyn.core import NeuralODE\n",
    "from torchdyn.numerics import odeint\n",
    "\n",
    "import numpy as np\n",
    "import lightning as pl\n",
    "import matplotlib.pyplot as plt\n"
   ]
  },
  {
   "cell_type": "code",
   "execution_count": null,
   "id": "1190e455",
   "metadata": {},
   "outputs": [],
   "source": [
    "# Intra-library imports\n",
    "from models import *\n",
    "import utils.ode as ode"
   ]
  },
  {
   "cell_type": "code",
   "execution_count": null,
   "id": "58637adc",
   "metadata": {},
   "outputs": [],
   "source": [
    "# Set up device\n",
    "device = torch.device(\"cuda\" if torch.cuda.is_available() else \"cpu\")\n",
    "\n",
    "# Set up random seed for reproducibility\n",
    "torch.manual_seed(0)"
   ]
  },
  {
   "cell_type": "code",
   "execution_count": null,
   "id": "1ab4ef82",
   "metadata": {
    "papermill": {
     "duration": 2.995151,
     "end_time": "2021-06-17T12:39:28.274655",
     "exception": false,
     "start_time": "2021-06-17T12:39:25.279504",
     "status": "completed"
    },
    "tags": []
   },
   "outputs": [],
   "source": [
    "## Define the Residue for the ODE\n",
    "\n",
    "# Instead of defining an ODE on the interval [0,10], \n",
    "# we define it on the interval [0,1] and speed up \n",
    "# the dynamics by a factor of 10. This is done \n",
    "# to aid PINNs in learning the dynamics.\n",
    "speed = 10.0\n",
    "eq = ode.FitzHughNagumo(speed = speed, mu = 1.0)\n",
    "eq_name = eq.name\n",
    "order = eq.order\n",
    "\n",
    "# Time and initial conditions.\n",
    "# We use 100 points and skew them slightly\n",
    "# to the left to aid PINNs with causality.\n",
    "nt = 100\n",
    "t = torch.linspace(0, 1, nt+1, requires_grad=False)**1.1\n",
    "x0 = torch.tensor([2.0,2-8/3], requires_grad = False)"
   ]
  },
  {
   "cell_type": "code",
   "execution_count": null,
   "id": "dd5c3a47",
   "metadata": {},
   "outputs": [],
   "source": [
    "# Baseline solution\n",
    "f = lambda t, x: eq.f(x)\n",
    "_ , sol = odeint(f, x0, t, solver ='dopri5')\n",
    "_ , sol_extrapolated = odeint(f, x0, 2*t, solver ='dopri5')\n",
    "\n",
    "# Plot the solution\n",
    "plt.plot(speed*t,sol, label = 'X')\n",
    "plt.title(eq_name)"
   ]
  },
  {
   "cell_type": "code",
   "execution_count": null,
   "id": "404a1055",
   "metadata": {
    "papermill": {
     "duration": 4.507785,
     "end_time": "2021-06-17T12:39:32.805540",
     "exception": false,
     "start_time": "2021-06-17T12:39:28.297755",
     "status": "completed"
    },
    "tags": []
   },
   "outputs": [],
   "source": [
    "# Build (trivial) datasets\n",
    "train = data.TensorDataset(x0)\n",
    "trainloader = data.DataLoader(train, batch_size=len(train), shuffle=False)"
   ]
  },
  {
   "cell_type": "code",
   "execution_count": null,
   "id": "c6864ed4",
   "metadata": {},
   "outputs": [],
   "source": [
    "# Number of experiments to run\n",
    "experiments = 5"
   ]
  },
  {
   "cell_type": "markdown",
   "id": "98f3dfd5",
   "metadata": {
    "papermill": {
     "duration": 0.019241,
     "end_time": "2021-06-17T12:39:32.846486",
     "exception": false,
     "start_time": "2021-06-17T12:39:32.827245",
     "status": "completed"
    },
    "tags": []
   },
   "source": [
    "**Learner**"
   ]
  },
  {
   "cell_type": "code",
   "execution_count": null,
   "id": "fd118534",
   "metadata": {},
   "outputs": [],
   "source": [
    "# Train with Pytorch Lightning\n",
    "\n",
    "class PINNLearner(pl.LightningModule):\n",
    "    def __init__(self, model:nn.Module, *,\n",
    "                  trainloader: data.DataLoader = trainloader,\n",
    "                  lr = 0.002):\n",
    "        super().__init__()\n",
    "        self.model = model\n",
    "        self.trainloader = trainloader\n",
    "        self.lr = lr\n",
    "        \n",
    "        self.eq = eq\n",
    "        self.register_buffer('t', t)\n",
    "\n",
    "    def training_step(self, batch, batch_idx):\n",
    "        # Calculate the ODE loss\n",
    "        x0 = batch[0]\n",
    "        t = self.t\n",
    "        model = self.model\n",
    "\n",
    "        x = model(x0,t)\n",
    "        x_dot = model.diff(x0,t)\n",
    "        loss = nn.MSELoss()(x_dot, eq.f(x))\n",
    "        \n",
    "        self.log(\"loss\", loss, prog_bar=True, on_step=False, on_epoch=True, logger = False)\n",
    "        return {'loss': loss}   \n",
    "    \n",
    "    def configure_optimizers(self):\n",
    "        return torch.optim.Adam(self.model.parameters(), lr=self.lr,amsgrad=False,betas=(0.95,0.99),eps=1e-08,weight_decay=0)\n",
    "\n",
    "    def train_dataloader(self):\n",
    "        return self.trainloader"
   ]
  },
  {
   "cell_type": "code",
   "execution_count": null,
   "id": "1132684d",
   "metadata": {},
   "outputs": [],
   "source": [
    "def run_experiment(learner):\n",
    "    trainer = pl.Trainer(max_epochs=2000)\n",
    "    model = learner.model\n",
    "    \n",
    "    start_time = time.time()\n",
    "    trainer.fit(learner)\n",
    "    end_time = time.time()\n",
    "    fit_time = end_time - start_time\n",
    "\n",
    "    \n",
    "    trajectory = model(x0, t).squeeze(1).detach()\n",
    "    loss_ground = torch.mean((trajectory - sol)**2)\n",
    "\n",
    "    trajectory_extrapolated = model(x0, 2*t).squeeze(1).detach()\n",
    "    loss_extra = torch.mean((trajectory_extrapolated - sol_extrapolated)**2)\n",
    "\n",
    "    return fit_time, loss_ground, loss_extra\n"
   ]
  },
  {
   "cell_type": "markdown",
   "id": "d13c5c5f",
   "metadata": {},
   "source": [
    "## MLP"
   ]
  },
  {
   "cell_type": "code",
   "execution_count": null,
   "id": "333c14ec",
   "metadata": {},
   "outputs": [],
   "source": [
    "fit_times = []\n",
    "losses_ground = []\n",
    "losses_extrapolation = []\n",
    "\n",
    "width = 32\n",
    "\n",
    "for i in range(experiments):\n",
    "        print(f'Experiment {i+1}')\n",
    "\n",
    "        f = CustomMLP(3,width,width,width,2,fourier_feature=True)\n",
    "        model = SemiFlow(f)\n",
    "        learner = PINNLearner(model, trainloader=trainloader)\n",
    "        \n",
    "        fit_time, loss_ground, loss_extra = run_experiment(learner)\n",
    "        fit_times.append(fit_time)\n",
    "        losses_ground.append(loss_ground)\n",
    "        losses_extrapolation.append(loss_extra)\n",
    "\n",
    "\n",
    "mean_ground = np.mean(losses_ground)\n",
    "std_ground = np.std(losses_ground)\n",
    "mean_extra = np.mean(losses_extrapolation)\n",
    "std_extra = np.std(losses_extrapolation)\n",
    "mean_fit_time = np.mean(fit_times)\n",
    "std_fit_time = np.std(fit_times)\n",
    "\n",
    "mlp_results = {'mean_ground': mean_ground, 'std_ground': std_ground,\n",
    "                'mean_extra': mean_extra, 'std_extra': std_extra,\n",
    "                'mean_fit_time': mean_fit_time, 'std_fit_time': std_fit_time,\n",
    "                'model': model}\n",
    "\n",
    "mlp_results"
   ]
  },
  {
   "cell_type": "markdown",
   "id": "a6768ce3",
   "metadata": {},
   "source": [
    "## Neural Conjugate Flows"
   ]
  },
  {
   "cell_type": "code",
   "execution_count": null,
   "id": "193b2426",
   "metadata": {},
   "outputs": [],
   "source": [
    "# Augment the system with a copy of x0\n",
    "twin_times = 1+1\n",
    "x0_twinned = torch.cat([x0]*twin_times, dim=-1)\n",
    "train_twinned = data.TensorDataset(x0_twinned)\n",
    "trainloader_twinned = data.DataLoader(train_twinned, batch_size=len(train_twinned), shuffle=False)"
   ]
  },
  {
   "cell_type": "code",
   "execution_count": null,
   "id": "15df7235",
   "metadata": {},
   "outputs": [],
   "source": [
    "# Initialize the matrix\n",
    "M0 = ncf_matrix_init(eq,x0,pad_mode='twin',pad_times=twin_times)\n",
    "M0 = (M0-M0.T)/2"
   ]
  },
  {
   "cell_type": "code",
   "execution_count": null,
   "id": "0ccb27b6",
   "metadata": {},
   "outputs": [],
   "source": [
    "# Implement special learner for duplicated system\n",
    "\n",
    "class NCFLearner(pl.LightningModule):\n",
    "    def __init__(self, model:nn.Module, *,\n",
    "                  trainloader: data.DataLoader = trainloader_twinned,\n",
    "                  weight = 1.0,\n",
    "                  avg_weight = 0.0,\n",
    "                  lr = 0.002):\n",
    "        super().__init__()\n",
    "        self.model = model\n",
    "        self.trainloader = trainloader\n",
    "        self.weight = weight\n",
    "        self.avg_weight = avg_weight\n",
    "        self.lr = lr\n",
    "        \n",
    "        self.eq = eq\n",
    "        self.register_buffer('t', t)\n",
    "\n",
    "    def training_step(self, batch, batch_idx):\n",
    "        # Have the option to consider the average loss \n",
    "        # between the two copies of the system\n",
    "        x0 = batch[0]\n",
    "        t = self.t\n",
    "        model = self.model\n",
    "        mse = nn.MSELoss()\n",
    "\n",
    "        x = model(x0,t)\n",
    "        x_dot = model.diff(x0,t)\n",
    "        x1,x2 = x.chunk(2,dim=-1)\n",
    "        x1_dot,x2_dot = x_dot.chunk(2,dim=-1)\n",
    "        x_mean = (x1 + x2)/2\n",
    "        x_dot_mean = (x1_dot + x2_dot)/2\n",
    "        loss =  self.weight*(mse(x1_dot, eq.f(x1)) + mse(x2_dot, eq.f(x2)))/2 + self.avg_weight*mse(x_dot_mean, eq.f(x_mean))\n",
    "\n",
    "        self.log(\"loss\", loss, prog_bar=True, on_step=False, on_epoch=True, logger = False)\n",
    "        return {'loss': loss}   \n",
    "    \n",
    "    def configure_optimizers(self):\n",
    "        return torch.optim.Adam(self.model.parameters(), lr=self.lr,amsgrad=False,betas=(0.95,0.99),eps=1e-08,weight_decay=0)\n",
    "\n",
    "    def train_dataloader(self):\n",
    "        return self.trainloader"
   ]
  },
  {
   "cell_type": "code",
   "execution_count": null,
   "id": "f743fc5a",
   "metadata": {},
   "outputs": [],
   "source": [
    "def ncf_experiment(learner):\n",
    "    trainer = pl.Trainer(max_epochs=2000)\n",
    "    model = learner.model\n",
    "    \n",
    "    start_time = time.time()\n",
    "    trainer.fit(learner)\n",
    "    end_time = time.time()\n",
    "    fit_time = end_time - start_time\n",
    "    \n",
    "    trajectory = model(x0_twinned, t).squeeze(1).detach()\n",
    "    traj1, traj2 = trajectory.chunk(2, dim=-1)\n",
    "    trajectory = (traj1 + traj2)/2\n",
    "    loss_ground = torch.mean((trajectory - sol)**2)\n",
    "\n",
    "    trajectory_extrapolated = model(x0_twinned, 2*t).squeeze(1).detach()\n",
    "    traj1, traj2 = trajectory_extrapolated.chunk(2, dim=-1)\n",
    "    trajectory_extrapolated = (traj1 + traj2)/2\n",
    "    loss_extra = torch.mean((trajectory_extrapolated - sol_extrapolated)**2)\n",
    "\n",
    "    return fit_time, loss_ground, loss_extra\n"
   ]
  },
  {
   "cell_type": "markdown",
   "id": "9c36a0bd",
   "metadata": {},
   "source": [
    "### Neural Conjugate (No Topology)"
   ]
  },
  {
   "cell_type": "code",
   "execution_count": null,
   "id": "dd6d220f",
   "metadata": {},
   "outputs": [],
   "source": [
    "fit_times = []\n",
    "losses_ground = []\n",
    "losses_extrapolation = []\n",
    "\n",
    "twin_order = order*twin_times\n",
    "width = 32\n",
    "\n",
    "for i in range(experiments):\n",
    "        print(f'Experiment {i+1}')\n",
    "\n",
    "        Psi = LinearFlow(twin_order**2, M0 = M0, omega_zero=0.075)\n",
    "        s1 = CustomMLP(order,width,width,order)\n",
    "        coupling1 = AdditiveCouplingLayer(s1,initial_step_size=0.0075)\n",
    "        s2 = CustomMLP(order,width,width,order)\n",
    "        coupling2 = AdditiveCouplingLayer(s2, initial_step_size=0.0075,orientation='skew')        \n",
    "        model = NeuralConjugate([coupling1,coupling2], Psi, pad='no')\n",
    "        learner = NCFLearner(model, trainloader=trainloader_twinned,lr = 0.0022)\n",
    "\n",
    "        \n",
    "        fit_time, loss_ground, loss_extra = ncf_experiment(learner)\n",
    "        fit_times.append(fit_time)\n",
    "        losses_ground.append(loss_ground)\n",
    "        losses_extrapolation.append(loss_extra)\n",
    "\n",
    "\n",
    "mean_ground = np.mean(losses_ground)\n",
    "std_ground = np.std(losses_ground)\n",
    "mean_extra = np.mean(losses_extrapolation)\n",
    "std_extra = np.std(losses_extrapolation)\n",
    "mean_fit_time = np.mean(fit_times)\n",
    "std_fit_time = np.std(fit_times)\n",
    "\n",
    "ncf_results = {'mean_ground': mean_ground, 'std_ground': std_ground,\n",
    "                'mean_extra': mean_extra, 'std_extra': std_extra,\n",
    "                'mean_fit_time': mean_fit_time, 'std_fit_time': std_fit_time,\n",
    "                'model': model}\n",
    "\n",
    "ncf_results"
   ]
  },
  {
   "cell_type": "markdown",
   "id": "d4f3c29c",
   "metadata": {},
   "source": [
    "### Neural Conjugate (Enforced Topology)"
   ]
  },
  {
   "cell_type": "code",
   "execution_count": null,
   "id": "3ebc9984",
   "metadata": {},
   "outputs": [],
   "source": [
    "fit_times = []\n",
    "losses_ground = []\n",
    "losses_extrapolation = []\n",
    "\n",
    "twin_order = order*twin_times\n",
    "width = 32\n",
    "\n",
    "for i in range(experiments):\n",
    "        print(f'Experiment {i+1}')\n",
    "\n",
    "        Psi = LinearFlow(twin_order**2, M0 = M0, omega_zero=0.1,lie_algebra='skew_symmetric')\n",
    "        s1 = CustomMLP(order,width,width,order)\n",
    "        coupling1 = AdditiveCouplingLayer(s1,initial_step_size=0.1)\n",
    "        s2 = CustomMLP(order,width,width,order)\n",
    "        coupling2 = AdditiveCouplingLayer(s2, initial_step_size=0.1,orientation='skew')        \n",
    "        model = NeuralConjugate([coupling1,coupling2], Psi, pad='no')\n",
    "        learner = NCFLearner(model, trainloader=trainloader_twinned,lr = 0.002)\n",
    "        \n",
    "        fit_time, loss_ground, loss_extra = ncf_experiment(learner)\n",
    "        fit_times.append(fit_time)\n",
    "        losses_ground.append(loss_ground)\n",
    "        losses_extrapolation.append(loss_extra)\n",
    "\n",
    "\n",
    "mean_ground = np.mean(losses_ground)\n",
    "std_ground = np.std(losses_ground)\n",
    "mean_extra = np.mean(losses_extrapolation)\n",
    "std_extra = np.std(losses_extrapolation)\n",
    "mean_fit_time = np.mean(fit_times)\n",
    "std_fit_time = np.std(fit_times)\n",
    "\n",
    "ncf_T_results = {'mean_ground': mean_ground, 'std_ground': std_ground,\n",
    "                'mean_extra': mean_extra, 'std_extra': std_extra,\n",
    "                'mean_fit_time': mean_fit_time, 'std_fit_time': std_fit_time,\n",
    "                'model': model}\n",
    "\n",
    "ncf_T_results"
   ]
  },
  {
   "cell_type": "markdown",
   "id": "34e46292",
   "metadata": {},
   "source": [
    "## Plots"
   ]
  },
  {
   "cell_type": "code",
   "execution_count": null,
   "id": "57965d4b",
   "metadata": {},
   "outputs": [],
   "source": [
    "fig, ax = plt.subplots()\n",
    "\n",
    "mlp_extrapolated = mlp_results[\"model\"](x0, 2*t).squeeze(1).detach()\n",
    "ncf_extrapolated = ncf_results[\"model\"](x0_twinned, 2*t).squeeze(1).detach()\n",
    "ncf_T_extrapolated = ncf_T_results[\"model\"](x0_twinned, 2*t).squeeze(1).detach()\n",
    "\n",
    "plt.plot(2*speed*t,sol_extrapolated[...,0], label = 'Baseline')\n",
    "plt.plot(2*speed*t,mlp_extrapolated[...,0], label = 'MLP', marker = 'o', linestyle='--')\n",
    "plt.plot(2*speed*t,ncf_extrapolated[...,0], label = 'NCF', marker = '+', linestyle='-.')\n",
    "plt.plot(2*speed*t,ncf_T_extrapolated[...,0], label = 'NCF_T', marker = 'x', linestyle=':')\n",
    "\n",
    "lims = [-3,8]\n",
    "ax.set_ylim(lims)\n",
    "ax.set_xlim([0,20])\n",
    "ax.set_aspect(3/4)\n",
    "ax.vlines(10.0,*lims, linestyles='dashed', colors='gray')\n",
    "plt.title(\"FitzHugh-Nagumo Neuron Model\")\n",
    "plt.legend([\"Baseline\",\"MLP\",\"NCF\",\"NCF-T\", \"Training Limit\"])\n",
    "plt.xlabel(\"Time (ms)\")\n",
    "plt.ylabel(\"Neuron Potential (mV)\")"
   ]
  }
 ],
 "metadata": {
  "kernelspec": {
   "display_name": "Python 3",
   "language": "python",
   "name": "python3"
  },
  "language_info": {
   "codemirror_mode": {
    "name": "ipython",
    "version": 3
   },
   "file_extension": ".py",
   "mimetype": "text/x-python",
   "name": "python",
   "nbconvert_exporter": "python",
   "pygments_lexer": "ipython3",
   "version": "3.12.4"
  },
  "latex_envs": {
   "LaTeX_envs_menu_present": true,
   "autoclose": false,
   "autocomplete": true,
   "bibliofile": "biblio.bib",
   "cite_by": "apalike",
   "current_citInitial": 1,
   "eqLabelWithNumbers": true,
   "eqNumInitial": 1,
   "hotkeys": {
    "equation": "Ctrl-E",
    "itemize": "Ctrl-I"
   },
   "labels_anchors": false,
   "latex_user_defs": false,
   "report_style_numbering": false,
   "user_envs_cfg": false
  },
  "papermill": {
   "default_parameters": {},
   "duration": 29.046384,
   "end_time": "2021-06-17T12:39:52.317291",
   "environment_variables": {},
   "exception": true,
   "input_path": "tutorials/01_neural_ode_cookbook.ipynb",
   "output_path": "tutorials/01_neural_ode_cookbook.ipynb",
   "parameters": {},
   "start_time": "2021-06-17T12:39:23.270907",
   "version": "2.3.3"
  },
  "varInspector": {
   "cols": {
    "lenName": 16,
    "lenType": 16,
    "lenVar": 40
   },
   "kernels_config": {
    "python": {
     "delete_cmd_postfix": "",
     "delete_cmd_prefix": "del ",
     "library": "var_list.py",
     "varRefreshCmd": "print(var_dic_list())"
    },
    "r": {
     "delete_cmd_postfix": ") ",
     "delete_cmd_prefix": "rm(",
     "library": "var_list.r",
     "varRefreshCmd": "cat(var_dic_list()) "
    }
   },
   "types_to_exclude": [
    "module",
    "function",
    "builtin_function_or_method",
    "instance",
    "_Feature"
   ],
   "window_display": false
  },
  "widgets": {
   "application/vnd.jupyter.widget-state+json": {
    "state": {
     "149b167de0d34bb19d2b42a462867a37": {
      "model_module": "@jupyter-widgets/controls",
      "model_module_version": "1.5.0",
      "model_name": "HTMLModel",
      "state": {
       "_dom_classes": [],
       "_model_module": "@jupyter-widgets/controls",
       "_model_module_version": "1.5.0",
       "_model_name": "HTMLModel",
       "_view_count": null,
       "_view_module": "@jupyter-widgets/controls",
       "_view_module_version": "1.5.0",
       "_view_name": "HTMLView",
       "description": "",
       "description_tooltip": null,
       "layout": "IPY_MODEL_7edc403926834204a535f29f32ab11ea",
       "placeholder": "​",
       "style": "IPY_MODEL_3d19990298ff4aab902b6d79c3395c75",
       "value": " 1/1 [00:00&lt;00:00, 12.13it/s, loss=0.000996, v_num=151]"
      }
     },
     "3d19990298ff4aab902b6d79c3395c75": {
      "model_module": "@jupyter-widgets/controls",
      "model_module_version": "1.5.0",
      "model_name": "DescriptionStyleModel",
      "state": {
       "_model_module": "@jupyter-widgets/controls",
       "_model_module_version": "1.5.0",
       "_model_name": "DescriptionStyleModel",
       "_view_count": null,
       "_view_module": "@jupyter-widgets/base",
       "_view_module_version": "1.2.0",
       "_view_name": "StyleView",
       "description_width": ""
      }
     },
     "42e88b6a8f184fe5aea27524a796ba5f": {
      "model_module": "@jupyter-widgets/base",
      "model_module_version": "1.2.0",
      "model_name": "LayoutModel",
      "state": {
       "_model_module": "@jupyter-widgets/base",
       "_model_module_version": "1.2.0",
       "_model_name": "LayoutModel",
       "_view_count": null,
       "_view_module": "@jupyter-widgets/base",
       "_view_module_version": "1.2.0",
       "_view_name": "LayoutView",
       "align_content": null,
       "align_items": null,
       "align_self": null,
       "border": null,
       "bottom": null,
       "display": null,
       "flex": null,
       "flex_flow": null,
       "grid_area": null,
       "grid_auto_columns": null,
       "grid_auto_flow": null,
       "grid_auto_rows": null,
       "grid_column": null,
       "grid_gap": null,
       "grid_row": null,
       "grid_template_areas": null,
       "grid_template_columns": null,
       "grid_template_rows": null,
       "height": null,
       "justify_content": null,
       "justify_items": null,
       "left": null,
       "margin": null,
       "max_height": null,
       "max_width": null,
       "min_height": null,
       "min_width": null,
       "object_fit": null,
       "object_position": null,
       "order": null,
       "overflow": null,
       "overflow_x": null,
       "overflow_y": null,
       "padding": null,
       "right": null,
       "top": null,
       "visibility": null,
       "width": null
      }
     },
     "7edc403926834204a535f29f32ab11ea": {
      "model_module": "@jupyter-widgets/base",
      "model_module_version": "1.2.0",
      "model_name": "LayoutModel",
      "state": {
       "_model_module": "@jupyter-widgets/base",
       "_model_module_version": "1.2.0",
       "_model_name": "LayoutModel",
       "_view_count": null,
       "_view_module": "@jupyter-widgets/base",
       "_view_module_version": "1.2.0",
       "_view_name": "LayoutView",
       "align_content": null,
       "align_items": null,
       "align_self": null,
       "border": null,
       "bottom": null,
       "display": null,
       "flex": null,
       "flex_flow": null,
       "grid_area": null,
       "grid_auto_columns": null,
       "grid_auto_flow": null,
       "grid_auto_rows": null,
       "grid_column": null,
       "grid_gap": null,
       "grid_row": null,
       "grid_template_areas": null,
       "grid_template_columns": null,
       "grid_template_rows": null,
       "height": null,
       "justify_content": null,
       "justify_items": null,
       "left": null,
       "margin": null,
       "max_height": null,
       "max_width": null,
       "min_height": null,
       "min_width": null,
       "object_fit": null,
       "object_position": null,
       "order": null,
       "overflow": null,
       "overflow_x": null,
       "overflow_y": null,
       "padding": null,
       "right": null,
       "top": null,
       "visibility": null,
       "width": null
      }
     },
     "9e6d916473ed4e1098d0ef84e221ee26": {
      "model_module": "@jupyter-widgets/controls",
      "model_module_version": "1.5.0",
      "model_name": "DescriptionStyleModel",
      "state": {
       "_model_module": "@jupyter-widgets/controls",
       "_model_module_version": "1.5.0",
       "_model_name": "DescriptionStyleModel",
       "_view_count": null,
       "_view_module": "@jupyter-widgets/base",
       "_view_module_version": "1.2.0",
       "_view_name": "StyleView",
       "description_width": ""
      }
     },
     "a6fc6d4e706647bba5caa2d4b99b5f45": {
      "model_module": "@jupyter-widgets/controls",
      "model_module_version": "1.5.0",
      "model_name": "FloatProgressModel",
      "state": {
       "_dom_classes": [],
       "_model_module": "@jupyter-widgets/controls",
       "_model_module_version": "1.5.0",
       "_model_name": "FloatProgressModel",
       "_view_count": null,
       "_view_module": "@jupyter-widgets/controls",
       "_view_module_version": "1.5.0",
       "_view_name": "ProgressView",
       "bar_style": "success",
       "description": "",
       "description_tooltip": null,
       "layout": "IPY_MODEL_ae659a85c83c42fe9613bef07097ec09",
       "max": 1,
       "min": 0,
       "orientation": "horizontal",
       "style": "IPY_MODEL_cd126243574a4a27b9b2ea0f3b33afbf",
       "value": 1
      }
     },
     "ae659a85c83c42fe9613bef07097ec09": {
      "model_module": "@jupyter-widgets/base",
      "model_module_version": "1.2.0",
      "model_name": "LayoutModel",
      "state": {
       "_model_module": "@jupyter-widgets/base",
       "_model_module_version": "1.2.0",
       "_model_name": "LayoutModel",
       "_view_count": null,
       "_view_module": "@jupyter-widgets/base",
       "_view_module_version": "1.2.0",
       "_view_name": "LayoutView",
       "align_content": null,
       "align_items": null,
       "align_self": null,
       "border": null,
       "bottom": null,
       "display": null,
       "flex": "2",
       "flex_flow": null,
       "grid_area": null,
       "grid_auto_columns": null,
       "grid_auto_flow": null,
       "grid_auto_rows": null,
       "grid_column": null,
       "grid_gap": null,
       "grid_row": null,
       "grid_template_areas": null,
       "grid_template_columns": null,
       "grid_template_rows": null,
       "height": null,
       "justify_content": null,
       "justify_items": null,
       "left": null,
       "margin": null,
       "max_height": null,
       "max_width": null,
       "min_height": null,
       "min_width": null,
       "object_fit": null,
       "object_position": null,
       "order": null,
       "overflow": null,
       "overflow_x": null,
       "overflow_y": null,
       "padding": null,
       "right": null,
       "top": null,
       "visibility": null,
       "width": null
      }
     },
     "cd126243574a4a27b9b2ea0f3b33afbf": {
      "model_module": "@jupyter-widgets/controls",
      "model_module_version": "1.5.0",
      "model_name": "ProgressStyleModel",
      "state": {
       "_model_module": "@jupyter-widgets/controls",
       "_model_module_version": "1.5.0",
       "_model_name": "ProgressStyleModel",
       "_view_count": null,
       "_view_module": "@jupyter-widgets/base",
       "_view_module_version": "1.2.0",
       "_view_name": "StyleView",
       "bar_color": null,
       "description_width": ""
      }
     },
     "e978be3a6a0d4cb4af34adfb7fe2bafb": {
      "model_module": "@jupyter-widgets/base",
      "model_module_version": "1.2.0",
      "model_name": "LayoutModel",
      "state": {
       "_model_module": "@jupyter-widgets/base",
       "_model_module_version": "1.2.0",
       "_model_name": "LayoutModel",
       "_view_count": null,
       "_view_module": "@jupyter-widgets/base",
       "_view_module_version": "1.2.0",
       "_view_name": "LayoutView",
       "align_content": null,
       "align_items": null,
       "align_self": null,
       "border": null,
       "bottom": null,
       "display": "inline-flex",
       "flex": null,
       "flex_flow": "row wrap",
       "grid_area": null,
       "grid_auto_columns": null,
       "grid_auto_flow": null,
       "grid_auto_rows": null,
       "grid_column": null,
       "grid_gap": null,
       "grid_row": null,
       "grid_template_areas": null,
       "grid_template_columns": null,
       "grid_template_rows": null,
       "height": null,
       "justify_content": null,
       "justify_items": null,
       "left": null,
       "margin": null,
       "max_height": null,
       "max_width": null,
       "min_height": null,
       "min_width": null,
       "object_fit": null,
       "object_position": null,
       "order": null,
       "overflow": null,
       "overflow_x": null,
       "overflow_y": null,
       "padding": null,
       "right": null,
       "top": null,
       "visibility": null,
       "width": "100%"
      }
     },
     "f3d08adc32d0462b978dec2b6ba1daa1": {
      "model_module": "@jupyter-widgets/controls",
      "model_module_version": "1.5.0",
      "model_name": "HBoxModel",
      "state": {
       "_dom_classes": [],
       "_model_module": "@jupyter-widgets/controls",
       "_model_module_version": "1.5.0",
       "_model_name": "HBoxModel",
       "_view_count": null,
       "_view_module": "@jupyter-widgets/controls",
       "_view_module_version": "1.5.0",
       "_view_name": "HBoxView",
       "box_style": "",
       "children": [
        "IPY_MODEL_f84e1e5544c845f7bef66f7cbd3cf841",
        "IPY_MODEL_a6fc6d4e706647bba5caa2d4b99b5f45",
        "IPY_MODEL_149b167de0d34bb19d2b42a462867a37"
       ],
       "layout": "IPY_MODEL_e978be3a6a0d4cb4af34adfb7fe2bafb"
      }
     },
     "f84e1e5544c845f7bef66f7cbd3cf841": {
      "model_module": "@jupyter-widgets/controls",
      "model_module_version": "1.5.0",
      "model_name": "HTMLModel",
      "state": {
       "_dom_classes": [],
       "_model_module": "@jupyter-widgets/controls",
       "_model_module_version": "1.5.0",
       "_model_name": "HTMLModel",
       "_view_count": null,
       "_view_module": "@jupyter-widgets/controls",
       "_view_module_version": "1.5.0",
       "_view_name": "HTMLView",
       "description": "",
       "description_tooltip": null,
       "layout": "IPY_MODEL_42e88b6a8f184fe5aea27524a796ba5f",
       "placeholder": "​",
       "style": "IPY_MODEL_9e6d916473ed4e1098d0ef84e221ee26",
       "value": "Epoch 249: 100%"
      }
     }
    },
    "version_major": 2,
    "version_minor": 0
   }
  }
 },
 "nbformat": 4,
 "nbformat_minor": 5
}
